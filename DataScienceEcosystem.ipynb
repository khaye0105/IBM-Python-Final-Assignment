{
 "cells": [
  {
   "cell_type": "markdown",
   "id": "c4c8f635",
   "metadata": {},
   "source": [
    "# Data Science Tools and Ecosystem"
   ]
  },
  {
   "cell_type": "markdown",
   "id": "e3d27eec",
   "metadata": {},
   "source": [
    "In this notebook, Data Science Tools and Ecosystem are summarized."
   ]
  },
  {
   "cell_type": "markdown",
   "id": "b7422cd7",
   "metadata": {},
   "source": [
    "**Objectives:**\n",
    "\n",
    "* List of popular language in data science\n",
    "* commonly used libraries by data science\n",
    "* Open source data science tools\n",
    "* examples of evaluating arithmetic expression\n",
    "* converting minutes to hours"
   ]
  },
  {
   "cell_type": "markdown",
   "id": "f343588b",
   "metadata": {},
   "source": [
    "Some of the popular languages that Data Scientists use are:\n",
    "    \n",
    "    1.R\n",
    "    2.Python\n",
    "    3.Scala\n",
    "    4.TensorFlow"
   ]
  },
  {
   "cell_type": "markdown",
   "id": "ac0e94e9",
   "metadata": {},
   "source": [
    "Some of the commonly used libraries used by Data Scientists include:\n",
    "    \n",
    "    1.NumPy\n",
    "    2.Pandas\n",
    "    3.Plotly\n",
    "    4.SciPy"
   ]
  },
  {
   "cell_type": "markdown",
   "id": "075bbbc9",
   "metadata": {},
   "source": [
    "|Data Science Tools|\n",
    "|------------------|\n",
    "|TensoFlow|\n",
    "|Apache Hadoop|\n",
    "|RStudio|"
   ]
  },
  {
   "cell_type": "markdown",
   "id": "70f9dfa5",
   "metadata": {},
   "source": [
    "### Below are a few examples of evaluating arithmetic expressions in Python"
   ]
  },
  {
   "cell_type": "code",
   "execution_count": 4,
   "id": "b3e1d026",
   "metadata": {},
   "outputs": [
    {
     "data": {
      "text/plain": [
       "17"
      ]
     },
     "execution_count": 4,
     "metadata": {},
     "output_type": "execute_result"
    }
   ],
   "source": [
    "#This a simple arithmetic expression to mutiply then add integers\n",
    "(3*4)+5\n"
   ]
  },
  {
   "cell_type": "code",
   "execution_count": 5,
   "id": "1cd68c8a",
   "metadata": {},
   "outputs": [
    {
     "data": {
      "text/plain": [
       "3.3333333333333335"
      ]
     },
     "execution_count": 5,
     "metadata": {},
     "output_type": "execute_result"
    }
   ],
   "source": [
    "#This will convert 200 minutes to hours by diving by 60\n",
    "200/60"
   ]
  },
  {
   "cell_type": "markdown",
   "id": "33295465",
   "metadata": {},
   "source": [
    "## Author\n",
    "Kaycelyn Joy Castor"
   ]
  },
  {
   "cell_type": "code",
   "execution_count": null,
   "id": "809999d4",
   "metadata": {},
   "outputs": [],
   "source": []
  }
 ],
 "metadata": {
  "kernelspec": {
   "display_name": "Python 3 (ipykernel)",
   "language": "python",
   "name": "python3"
  },
  "language_info": {
   "codemirror_mode": {
    "name": "ipython",
    "version": 3
   },
   "file_extension": ".py",
   "mimetype": "text/x-python",
   "name": "python",
   "nbconvert_exporter": "python",
   "pygments_lexer": "ipython3",
   "version": "3.9.16"
  }
 },
 "nbformat": 4,
 "nbformat_minor": 5
}
